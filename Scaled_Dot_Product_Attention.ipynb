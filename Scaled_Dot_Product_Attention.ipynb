{
  "nbformat": 4,
  "nbformat_minor": 0,
  "metadata": {
    "colab": {
      "provenance": []
    },
    "kernelspec": {
      "name": "python3",
      "display_name": "Python 3"
    },
    "language_info": {
      "name": "python"
    }
  },
  "cells": [
    {
      "cell_type": "code",
      "source": [
        "import numpy as np\n",
        "\n",
        "def scaled_dot_product_attention(Q, K, V):\n",
        "    # Step 1: Dot product of Q and Kᵀ\n",
        "    dk = Q.shape[-1]\n",
        "    scores = np.dot(Q, K.T)\n",
        "\n",
        "    # Step 2: Scale the scores\n",
        "    scaled_scores = scores / np.sqrt(dk)\n",
        "\n",
        "    # Step 3: Apply softmax to get attention weights\n",
        "    exp_scores = np.exp(scaled_scores - np.max(scaled_scores, axis=1, keepdims=True))  # stability trick\n",
        "    attention_weights = exp_scores / np.sum(exp_scores, axis=1, keepdims=True)\n",
        "\n",
        "    # Step 4: Multiply attention weights with V\n",
        "    output = np.dot(attention_weights, V)\n",
        "\n",
        "    # Print results\n",
        "    print(\"Attention Weights:\\n\", attention_weights)\n",
        "    print(\"Output:\\n\", output)\n",
        "\n",
        "# Test input\n",
        "Q = np.array([[1, 0, 1, 0],\n",
        "              [0, 1, 0, 1]])\n",
        "K = np.array([[1, 0, 1, 0],\n",
        "              [0, 1, 0, 1]])\n",
        "V = np.array([[1, 2, 3, 4],\n",
        "              [5, 6, 7, 8]])\n",
        "\n",
        "scaled_dot_product_attention(Q, K, V)\n"
      ],
      "metadata": {
        "colab": {
          "base_uri": "https://localhost:8080/"
        },
        "id": "1hwv64Rl9IDg",
        "outputId": "3fd33e0e-6c5e-4502-c527-d9ef797ee44f"
      },
      "execution_count": 6,
      "outputs": [
        {
          "output_type": "stream",
          "name": "stdout",
          "text": [
            "Attention Weights:\n",
            " [[0.73105858 0.26894142]\n",
            " [0.26894142 0.73105858]]\n",
            "Output:\n",
            " [[2.07576569 3.07576569 4.07576569 5.07576569]\n",
            " [3.92423431 4.92423431 5.92423431 6.92423431]]\n"
          ]
        }
      ]
    },
    {
      "cell_type": "markdown",
      "source": [
        "1. Why divide the attention score by √d in scaled dot-product attention?\n",
        "We divide by √d to prevent the dot product values from becoming too large, which can push softmax into very small gradients and make learning unstable.\n",
        "\n",
        "2. How does self-attention help the model understand relationships between words in a sentence?\n",
        "Self-attention allows each word to focus on other words in the sentence, capturing dependencies and context regardless of their position.\n",
        "\n"
      ],
      "metadata": {
        "id": "V-MG10w99OqH"
      }
    }
  ]
}