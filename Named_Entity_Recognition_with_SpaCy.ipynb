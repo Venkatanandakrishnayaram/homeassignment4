{
  "nbformat": 4,
  "nbformat_minor": 0,
  "metadata": {
    "colab": {
      "provenance": []
    },
    "kernelspec": {
      "name": "python3",
      "display_name": "Python 3"
    },
    "language_info": {
      "name": "python"
    }
  },
  "cells": [
    {
      "cell_type": "code",
      "source": [
        "import spacy\n",
        "\n",
        "# Load the English model\n",
        "nlp = spacy.load(\"en_core_web_sm\")\n",
        "\n",
        "# Input sentence\n",
        "sentence = \"Barack Obama served as the 44th President of the United States and won the Nobel Peace Prize in 2009.\"\n",
        "\n",
        "# Process the text\n",
        "doc = nlp(sentence)\n",
        "\n",
        "# Print named entities\n",
        "for ent in doc.ents:\n",
        "    print(f\"Text: {ent.text}, Label: {ent.label_}, Start: {ent.start_char}, End: {ent.end_char}\")\n"
      ],
      "metadata": {
        "colab": {
          "base_uri": "https://localhost:8080/"
        },
        "id": "hEnrUuic8h0C",
        "outputId": "644f8f9f-2800-46fd-ee27-01bd9777daa9"
      },
      "execution_count": 5,
      "outputs": [
        {
          "output_type": "stream",
          "name": "stdout",
          "text": [
            "Text: Barack Obama, Label: PERSON, Start: 0, End: 12\n",
            "Text: 44th, Label: ORDINAL, Start: 27, End: 31\n",
            "Text: the United States, Label: GPE, Start: 45, End: 62\n",
            "Text: the Nobel Peace Prize, Label: WORK_OF_ART, Start: 71, End: 92\n",
            "Text: 2009, Label: DATE, Start: 96, End: 100\n"
          ]
        }
      ]
    },
    {
      "cell_type": "markdown",
      "source": [
        "1. How does NER differ from POS tagging in NLP?\n",
        "NER (Named Entity Recognition) identifies and classifies named entities (like people, places, dates).\n",
        "POS tagging (Part-of-Speech tagging) labels each word by its grammatical role (noun, verb, adjective, etc.).\n",
        "\n",
        "2. Two real-world applications of NER:\n",
        "Financial News Analysis: Extracts company names, stock symbols, and dates for market insights.\n",
        "\n",
        "Search Engines: Recognizes entities like locations or products to improve search relevance and ranking.\n",
        "\n"
      ],
      "metadata": {
        "id": "hRJ8vZNz8nqR"
      }
    }
  ]
}